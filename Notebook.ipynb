{
 "cells": [
  {
   "cell_type": "code",
   "execution_count": null,
   "id": "7f73cd97-950c-4bbd-abd0-3b5f5f81b038",
   "metadata": {},
   "outputs": [],
   "source": []
  }
 ],
 "metadata": {
  "kernelspec": {
   "display_name": "",
   "name": ""
  },
  "language_info": {
   "name": ""
  }
 },
 "nbformat": 4,
 "nbformat_minor": 5
}
